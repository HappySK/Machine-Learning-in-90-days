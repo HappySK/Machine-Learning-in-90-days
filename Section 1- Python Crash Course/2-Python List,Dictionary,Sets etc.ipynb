{
 "cells": [
  {
   "cell_type": "markdown",
   "metadata": {},
   "source": [
    "## Python Data Structures and Boolean \n",
    "\n",
    "- Boolean\n",
    "- Boolean and Logical Operators\n",
    "- Lists\n",
    "- Comparison operators\n",
    "- Dictionaries\n",
    "- Tuples\n",
    "- Sets\n"
   ]
  },
  {
   "cell_type": "markdown",
   "metadata": {},
   "source": [
    "### Boolean Variables\n",
    "\n",
    "Boolean values are the two constant objects False and True. \n",
    "\n",
    "They are used to represent truth values (other values can also be considered\n",
    "false or true). \n",
    "\n",
    "In numeric contexts (for example, when used as the argument to an\n",
    "arithmetic operator), they behave like the integers 0 and 1, respectively.\n",
    "\n",
    "The built-in function bool() can be used to cast any value to a Boolean,\n",
    "if the value can be interpreted as a truth value\n",
    "\n",
    "They are written as False and True, respectively.\n",
    "\n"
   ]
  },
  {
   "cell_type": "code",
   "execution_count": 1,
   "metadata": {},
   "outputs": [
    {
     "data": {
      "text/plain": [
       "False"
      ]
     },
     "execution_count": 1,
     "metadata": {},
     "output_type": "execute_result"
    }
   ],
   "source": [
    "False"
   ]
  },
  {
   "cell_type": "code",
   "execution_count": 2,
   "metadata": {},
   "outputs": [
    {
     "name": "stdout",
     "output_type": "stream",
     "text": [
      "True False\n"
     ]
    }
   ],
   "source": [
    "print(True,False)"
   ]
  },
  {
   "cell_type": "code",
   "execution_count": 3,
   "metadata": {},
   "outputs": [
    {
     "data": {
      "text/plain": [
       "bool"
      ]
     },
     "execution_count": 3,
     "metadata": {},
     "output_type": "execute_result"
    }
   ],
   "source": [
    "type(True)"
   ]
  },
  {
   "cell_type": "code",
   "execution_count": 4,
   "metadata": {},
   "outputs": [
    {
     "data": {
      "text/plain": [
       "bool"
      ]
     },
     "execution_count": 4,
     "metadata": {},
     "output_type": "execute_result"
    }
   ],
   "source": [
    "type(False)"
   ]
  },
  {
   "cell_type": "markdown",
   "metadata": {},
   "source": [
    "The variables with other datatype can also be converted into either true or false based on\n",
    "1. List/Tuple/Set/Dictionary is empty, False\n",
    "2. Non empty List/Tuple/Set/Dictionary are considered True"
   ]
  },
  {
   "cell_type": "code",
   "execution_count": 16,
   "metadata": {},
   "outputs": [
    {
     "data": {
      "text/plain": [
       "True"
      ]
     },
     "execution_count": 16,
     "metadata": {},
     "output_type": "execute_result"
    }
   ],
   "source": [
    "bool([])"
   ]
  },
  {
   "cell_type": "code",
   "execution_count": 17,
   "metadata": {},
   "outputs": [],
   "source": [
    "my_str='Krish123'"
   ]
  },
  {
   "cell_type": "code",
   "execution_count": 19,
   "metadata": {},
   "outputs": [
    {
     "data": {
      "text/plain": [
       "True"
      ]
     },
     "execution_count": 19,
     "metadata": {},
     "output_type": "execute_result"
    }
   ],
   "source": [
    "my_str.istitle()"
   ]
  },
  {
   "cell_type": "code",
   "execution_count": 21,
   "metadata": {},
   "outputs": [
    {
     "name": "stdout",
     "output_type": "stream",
     "text": [
      "True\n",
      "False\n",
      "False\n",
      "True\n",
      "False\n",
      "False\n",
      "False\n",
      "False\n",
      "True\n",
      "<built-in method translate of str object at 0x7f77145a2570>\n"
     ]
    }
   ],
   "source": [
    "print(my_str.isalnum()) #check if all char are numbers\n",
    "print(my_str.isalpha()) #check if all char in the string are alphabetic\n",
    "print(my_str.isdigit()) #test if string contains digits\n",
    "print(my_str.istitle()) #test if string contains title words\n",
    "print(my_str.isupper()) #test if string contains upper case\n",
    "print(my_str.islower()) #test if string contains lower case\n",
    "print(my_str.isspace()) #test if string contains spaces\n",
    "print(my_str.endswith('k')) #test if string endswith a d\n",
    "print(my_str.startswith('K')) #test if string startswith H\n",
    "print(my_str.translate) #test if string translate"
   ]
  },
  {
   "cell_type": "markdown",
   "metadata": {},
   "source": [
    "### Boolean and Logical Operators"
   ]
  },
  {
   "cell_type": "code",
   "execution_count": 29,
   "metadata": {},
   "outputs": [],
   "source": [
    "has_table_loaded = True"
   ]
  },
  {
   "cell_type": "code",
   "execution_count": 22,
   "metadata": {},
   "outputs": [
    {
     "data": {
      "text/plain": [
       "True"
      ]
     },
     "execution_count": 22,
     "metadata": {},
     "output_type": "execute_result"
    }
   ],
   "source": [
    "True and True"
   ]
  },
  {
   "cell_type": "code",
   "execution_count": 23,
   "metadata": {},
   "outputs": [
    {
     "data": {
      "text/plain": [
       "False"
      ]
     },
     "execution_count": 23,
     "metadata": {},
     "output_type": "execute_result"
    }
   ],
   "source": [
    "True and False"
   ]
  },
  {
   "cell_type": "code",
   "execution_count": 30,
   "metadata": {},
   "outputs": [
    {
     "data": {
      "text/plain": [
       "True"
      ]
     },
     "execution_count": 30,
     "metadata": {},
     "output_type": "execute_result"
    }
   ],
   "source": [
    "True or False"
   ]
  },
  {
   "cell_type": "code",
   "execution_count": 31,
   "metadata": {},
   "outputs": [
    {
     "data": {
      "text/plain": [
       "True"
      ]
     },
     "execution_count": 31,
     "metadata": {},
     "output_type": "execute_result"
    }
   ],
   "source": [
    "True or True"
   ]
  },
  {
   "cell_type": "code",
   "execution_count": 32,
   "metadata": {},
   "outputs": [],
   "source": [
    "str_example='Hello World'\n",
    "my_str='Krish'"
   ]
  },
  {
   "cell_type": "code",
   "execution_count": 33,
   "metadata": {},
   "outputs": [
    {
     "data": {
      "text/plain": [
       "True"
      ]
     },
     "execution_count": 33,
     "metadata": {},
     "output_type": "execute_result"
    }
   ],
   "source": [
    "my_str.isalpha() or str_example.isnum()"
   ]
  },
  {
   "cell_type": "markdown",
   "metadata": {},
   "source": [
    "### Lists\n",
    "\n",
    "A list is a data structure in Python that is a mutable, or changeable, ordered sequence of elements. Each element or value that is inside of a list is called an item. Just as strings are defined as characters between quotes, lists are defined by having values between square brackets [ ] "
   ]
  },
  {
   "cell_type": "code",
   "execution_count": 34,
   "metadata": {},
   "outputs": [
    {
     "data": {
      "text/plain": [
       "list"
      ]
     },
     "execution_count": 34,
     "metadata": {},
     "output_type": "execute_result"
    }
   ],
   "source": [
    "type([])"
   ]
  },
  {
   "cell_type": "code",
   "execution_count": 35,
   "metadata": {},
   "outputs": [],
   "source": [
    "lst_example=[]"
   ]
  },
  {
   "cell_type": "code",
   "execution_count": 36,
   "metadata": {},
   "outputs": [
    {
     "data": {
      "text/plain": [
       "list"
      ]
     },
     "execution_count": 36,
     "metadata": {},
     "output_type": "execute_result"
    }
   ],
   "source": [
    "type(lst_example)"
   ]
  },
  {
   "cell_type": "code",
   "execution_count": 37,
   "metadata": {},
   "outputs": [],
   "source": [
    "lst=list()"
   ]
  },
  {
   "cell_type": "code",
   "execution_count": 39,
   "metadata": {},
   "outputs": [],
   "source": [
    "lst.append('x')"
   ]
  },
  {
   "cell_type": "code",
   "execution_count": 40,
   "metadata": {},
   "outputs": [
    {
     "data": {
      "text/plain": [
       "list"
      ]
     },
     "execution_count": 40,
     "metadata": {},
     "output_type": "execute_result"
    }
   ],
   "source": [
    "type(lst)"
   ]
  },
  {
   "cell_type": "code",
   "execution_count": 41,
   "metadata": {},
   "outputs": [],
   "source": [
    "lst=['Mathematics', 'chemistry', 100, 200, 300, 204]"
   ]
  },
  {
   "cell_type": "code",
   "execution_count": 42,
   "metadata": {},
   "outputs": [
    {
     "data": {
      "text/plain": [
       "6"
      ]
     },
     "execution_count": 42,
     "metadata": {},
     "output_type": "execute_result"
    }
   ],
   "source": [
    "len(lst)"
   ]
  },
  {
   "cell_type": "code",
   "execution_count": 43,
   "metadata": {},
   "outputs": [
    {
     "data": {
      "text/plain": [
       "list"
      ]
     },
     "execution_count": 43,
     "metadata": {},
     "output_type": "execute_result"
    }
   ],
   "source": [
    "type(lst)"
   ]
  },
  {
   "cell_type": "markdown",
   "metadata": {},
   "source": [
    "### Append"
   ]
  },
  {
   "cell_type": "code",
   "execution_count": 44,
   "metadata": {},
   "outputs": [],
   "source": [
    "#.append is used to add elements in the list\n",
    "lst.append(\"Krish\")"
   ]
  },
  {
   "cell_type": "code",
   "execution_count": 45,
   "metadata": {},
   "outputs": [],
   "source": [
    "lst.append([\"John\",\"Bala\"])"
   ]
  },
  {
   "cell_type": "code",
   "execution_count": 46,
   "metadata": {},
   "outputs": [
    {
     "data": {
      "text/plain": [
       "['Mathematics', 'chemistry', 100, 200, 300, 204, 'Krish', ['John', 'Bala']]"
      ]
     },
     "execution_count": 46,
     "metadata": {},
     "output_type": "execute_result"
    }
   ],
   "source": [
    "lst"
   ]
  },
  {
   "cell_type": "code",
   "execution_count": 47,
   "metadata": {},
   "outputs": [
    {
     "data": {
      "text/plain": [
       "'Krish'"
      ]
     },
     "execution_count": 47,
     "metadata": {},
     "output_type": "execute_result"
    }
   ],
   "source": [
    "##Indexing in List\n",
    "lst[6]"
   ]
  },
  {
   "cell_type": "code",
   "execution_count": 48,
   "metadata": {},
   "outputs": [
    {
     "data": {
      "text/plain": [
       "['chemistry', 100, 200, 300, 204]"
      ]
     },
     "execution_count": 48,
     "metadata": {},
     "output_type": "execute_result"
    }
   ],
   "source": [
    "lst[1:6]"
   ]
  },
  {
   "cell_type": "markdown",
   "metadata": {},
   "source": [
    "### Insert"
   ]
  },
  {
   "cell_type": "code",
   "execution_count": 49,
   "metadata": {},
   "outputs": [],
   "source": [
    "## insert in a specific order\n",
    "\n",
    "lst.insert(2,\"Naik\")"
   ]
  },
  {
   "cell_type": "code",
   "execution_count": 50,
   "metadata": {},
   "outputs": [
    {
     "data": {
      "text/plain": [
       "['Mathematics',\n",
       " 'chemistry',\n",
       " 'Naik',\n",
       " 100,\n",
       " 200,\n",
       " 300,\n",
       " 204,\n",
       " 'Krish',\n",
       " ['John', 'Bala']]"
      ]
     },
     "execution_count": 50,
     "metadata": {},
     "output_type": "execute_result"
    }
   ],
   "source": [
    "lst"
   ]
  },
  {
   "cell_type": "code",
   "execution_count": 51,
   "metadata": {},
   "outputs": [],
   "source": [
    "lst.append([\"Hello\",\"World\"])"
   ]
  },
  {
   "cell_type": "code",
   "execution_count": 52,
   "metadata": {},
   "outputs": [
    {
     "data": {
      "text/plain": [
       "['Mathematics',\n",
       " 'chemistry',\n",
       " 'Naik',\n",
       " 100,\n",
       " 200,\n",
       " 300,\n",
       " 204,\n",
       " 'Krish',\n",
       " ['John', 'Bala'],\n",
       " ['Hello', 'World']]"
      ]
     },
     "execution_count": 52,
     "metadata": {},
     "output_type": "execute_result"
    }
   ],
   "source": [
    "lst"
   ]
  },
  {
   "cell_type": "code",
   "execution_count": 53,
   "metadata": {},
   "outputs": [],
   "source": [
    "lst=[1,2,3]"
   ]
  },
  {
   "cell_type": "code",
   "execution_count": 54,
   "metadata": {},
   "outputs": [],
   "source": [
    "lst.append([4,5])"
   ]
  },
  {
   "cell_type": "code",
   "execution_count": 55,
   "metadata": {},
   "outputs": [
    {
     "data": {
      "text/plain": [
       "[1, 2, 3, [4, 5]]"
      ]
     },
     "execution_count": 55,
     "metadata": {},
     "output_type": "execute_result"
    }
   ],
   "source": [
    "lst"
   ]
  },
  {
   "cell_type": "markdown",
   "metadata": {},
   "source": [
    "### Extend Method"
   ]
  },
  {
   "cell_type": "code",
   "execution_count": 56,
   "metadata": {},
   "outputs": [],
   "source": [
    "lst=[1,2,3,4,5,6]"
   ]
  },
  {
   "cell_type": "code",
   "execution_count": 57,
   "metadata": {},
   "outputs": [],
   "source": [
    "lst.extend([8,9])"
   ]
  },
  {
   "cell_type": "code",
   "execution_count": 58,
   "metadata": {},
   "outputs": [
    {
     "data": {
      "text/plain": [
       "[1, 2, 3, 4, 5, 6, 8, 9]"
      ]
     },
     "execution_count": 58,
     "metadata": {},
     "output_type": "execute_result"
    }
   ],
   "source": [
    "lst"
   ]
  },
  {
   "cell_type": "code",
   "execution_count": 59,
   "metadata": {},
   "outputs": [],
   "source": [
    "lst.extend([9, 8, [1, 2]])"
   ]
  },
  {
   "cell_type": "code",
   "execution_count": 60,
   "metadata": {},
   "outputs": [
    {
     "data": {
      "text/plain": [
       "[1, 2, 3, 4, 5, 6, 8, 9, 9, 8, [1, 2]]"
      ]
     },
     "execution_count": 60,
     "metadata": {},
     "output_type": "execute_result"
    }
   ],
   "source": [
    "lst"
   ]
  },
  {
   "cell_type": "markdown",
   "metadata": {},
   "source": [
    "### Various Operations that we can perform in List"
   ]
  },
  {
   "cell_type": "code",
   "execution_count": 65,
   "metadata": {},
   "outputs": [],
   "source": [
    "lst=[1,2,3,4,5]\n",
    "# lst=[1, 'archie', '2', 'andrews'] Will result in TypeError"
   ]
  },
  {
   "cell_type": "code",
   "execution_count": 66,
   "metadata": {},
   "outputs": [
    {
     "data": {
      "text/plain": [
       "15"
      ]
     },
     "execution_count": 66,
     "metadata": {},
     "output_type": "execute_result"
    }
   ],
   "source": [
    "sum(lst)"
   ]
  },
  {
   "cell_type": "code",
   "execution_count": 67,
   "metadata": {},
   "outputs": [
    {
     "data": {
      "text/plain": [
       "[1, 2, 3, 4, 5, 1, 2, 3, 4, 5, 1, 2, 3, 4, 5, 1, 2, 3, 4, 5, 1, 2, 3, 4, 5]"
      ]
     },
     "execution_count": 67,
     "metadata": {},
     "output_type": "execute_result"
    }
   ],
   "source": [
    "lst*5"
   ]
  },
  {
   "cell_type": "markdown",
   "metadata": {},
   "source": [
    "### Pop() Method"
   ]
  },
  {
   "cell_type": "code",
   "execution_count": 68,
   "metadata": {},
   "outputs": [
    {
     "data": {
      "text/plain": [
       "5"
      ]
     },
     "execution_count": 68,
     "metadata": {},
     "output_type": "execute_result"
    }
   ],
   "source": [
    "lst.pop()"
   ]
  },
  {
   "cell_type": "code",
   "execution_count": 69,
   "metadata": {},
   "outputs": [
    {
     "data": {
      "text/plain": [
       "[1, 2, 3, 4]"
      ]
     },
     "execution_count": 69,
     "metadata": {},
     "output_type": "execute_result"
    }
   ],
   "source": [
    "lst"
   ]
  },
  {
   "cell_type": "code",
   "execution_count": 70,
   "metadata": {},
   "outputs": [
    {
     "data": {
      "text/plain": [
       "1"
      ]
     },
     "execution_count": 70,
     "metadata": {},
     "output_type": "execute_result"
    }
   ],
   "source": [
    "lst.pop(0)"
   ]
  },
  {
   "cell_type": "code",
   "execution_count": 71,
   "metadata": {},
   "outputs": [
    {
     "data": {
      "text/plain": [
       "[2, 3, 4]"
      ]
     },
     "execution_count": 71,
     "metadata": {},
     "output_type": "execute_result"
    }
   ],
   "source": [
    "lst"
   ]
  },
  {
   "cell_type": "markdown",
   "metadata": {},
   "source": [
    "### count():Calculates total occurrence of given element of List"
   ]
  },
  {
   "cell_type": "code",
   "execution_count": 72,
   "metadata": {},
   "outputs": [
    {
     "data": {
      "text/plain": [
       "2"
      ]
     },
     "execution_count": 72,
     "metadata": {},
     "output_type": "execute_result"
    }
   ],
   "source": [
    "lst=[1,1,2,3,4,5]\n",
    "lst.count(1)"
   ]
  },
  {
   "cell_type": "code",
   "execution_count": 73,
   "metadata": {},
   "outputs": [
    {
     "data": {
      "text/plain": [
       "6"
      ]
     },
     "execution_count": 73,
     "metadata": {},
     "output_type": "execute_result"
    }
   ],
   "source": [
    "#length:Calculates total length of List\n",
    "len(lst)"
   ]
  },
  {
   "cell_type": "code",
   "execution_count": 74,
   "metadata": {},
   "outputs": [
    {
     "data": {
      "text/plain": [
       "1"
      ]
     },
     "execution_count": 74,
     "metadata": {},
     "output_type": "execute_result"
    }
   ],
   "source": [
    "# index(): Returns the index of first occurrence. Start and End index are not necessary parameters\n",
    "lst.index(1,1,4)"
   ]
  },
  {
   "cell_type": "code",
   "execution_count": 75,
   "metadata": {},
   "outputs": [
    {
     "data": {
      "text/plain": [
       "1"
      ]
     },
     "execution_count": 75,
     "metadata": {},
     "output_type": "execute_result"
    }
   ],
   "source": [
    "##Min and Max\n",
    "min(lst)"
   ]
  },
  {
   "cell_type": "code",
   "execution_count": 76,
   "metadata": {},
   "outputs": [
    {
     "data": {
      "text/plain": [
       "5"
      ]
     },
     "execution_count": 76,
     "metadata": {},
     "output_type": "execute_result"
    }
   ],
   "source": [
    "max(lst)"
   ]
  },
  {
   "cell_type": "markdown",
   "metadata": {},
   "source": [
    "## SETS\n",
    "\n",
    "A Set is an unordered collection data type that is iterable, mutable, and has no duplicate elements. Python's set class represents the mathematical notion of a set.This is based on a data structure known as a hash table\n",
    "1. The way it adds the element into the set is unordered"
   ]
  },
  {
   "cell_type": "code",
   "execution_count": 1,
   "metadata": {},
   "outputs": [
    {
     "name": "stdout",
     "output_type": "stream",
     "text": [
      "set()\n",
      "<class 'set'>\n"
     ]
    }
   ],
   "source": [
    "## Defining an empy set\n",
    "\n",
    "set_var= set()\n",
    "print(set_var)\n",
    "print(type(set_var))"
   ]
  },
  {
   "cell_type": "code",
   "execution_count": 2,
   "metadata": {},
   "outputs": [],
   "source": [
    "set_var={1,2,3,4,3}\n",
    "for num in range(1000):\n",
    "    set_var.add(f\"Number: {num}\")"
   ]
  },
  {
   "cell_type": "code",
   "execution_count": 6,
   "metadata": {},
   "outputs": [
    {
     "data": {
      "text/plain": [
       "{1,\n",
       " 2,\n",
       " 3,\n",
       " 4,\n",
       " 'Number: 136',\n",
       " 'Number: 580',\n",
       " 'Number: 730',\n",
       " 'Number: 960',\n",
       " 'Number: 874',\n",
       " 'Number: 542',\n",
       " 'Number: 475',\n",
       " 'Number: 550',\n",
       " 'Number: 153',\n",
       " 'Number: 941',\n",
       " 'Number: 474',\n",
       " 'Number: 279',\n",
       " 'Number: 57',\n",
       " 'Number: 884',\n",
       " 'Number: 896',\n",
       " 'Number: 909',\n",
       " 'Number: 913',\n",
       " 'Number: 569',\n",
       " 'Number: 124',\n",
       " 'Number: 662',\n",
       " 'Number: 840',\n",
       " 'Number: 21',\n",
       " 'Number: 88',\n",
       " 'Number: 89',\n",
       " 'Number: 399',\n",
       " 'Number: 178',\n",
       " 'Number: 354',\n",
       " 'Number: 779',\n",
       " 'Number: 144',\n",
       " 'Number: 222',\n",
       " 'Number: 276',\n",
       " 'Number: 335',\n",
       " 'Number: 430',\n",
       " 'Number: 490',\n",
       " 'Number: 677',\n",
       " 'Number: 56',\n",
       " 'Number: 53',\n",
       " 'Number: 338',\n",
       " 'Number: 361',\n",
       " 'Number: 78',\n",
       " 'Number: 387',\n",
       " 'Number: 638',\n",
       " 'Number: 577',\n",
       " 'Number: 330',\n",
       " 'Number: 862',\n",
       " 'Number: 185',\n",
       " 'Number: 158',\n",
       " 'Number: 271',\n",
       " 'Number: 763',\n",
       " 'Number: 223',\n",
       " 'Number: 613',\n",
       " 'Number: 879',\n",
       " 'Number: 588',\n",
       " 'Number: 800',\n",
       " 'Number: 24',\n",
       " 'Number: 592',\n",
       " 'Number: 484',\n",
       " 'Number: 154',\n",
       " 'Number: 261',\n",
       " 'Number: 780',\n",
       " 'Number: 177',\n",
       " 'Number: 777',\n",
       " 'Number: 17',\n",
       " 'Number: 627',\n",
       " 'Number: 238',\n",
       " 'Number: 686',\n",
       " 'Number: 535',\n",
       " 'Number: 743',\n",
       " 'Number: 555',\n",
       " 'Number: 496',\n",
       " 'Number: 823',\n",
       " 'Number: 883',\n",
       " 'Number: 721',\n",
       " 'Number: 657',\n",
       " 'Number: 969',\n",
       " 'Number: 23',\n",
       " 'Number: 768',\n",
       " 'Number: 605',\n",
       " 'Number: 671',\n",
       " 'Number: 546',\n",
       " 'Number: 241',\n",
       " 'Number: 611',\n",
       " 'Number: 737',\n",
       " 'Number: 692',\n",
       " 'Number: 878',\n",
       " 'Number: 81',\n",
       " 'Number: 650',\n",
       " 'Number: 871',\n",
       " 'Number: 77',\n",
       " 'Number: 826',\n",
       " 'Number: 690',\n",
       " 'Number: 741',\n",
       " 'Number: 473',\n",
       " 'Number: 476',\n",
       " 'Number: 210',\n",
       " 'Number: 292',\n",
       " 'Number: 532',\n",
       " 'Number: 815',\n",
       " 'Number: 942',\n",
       " 'Number: 629',\n",
       " 'Number: 670',\n",
       " 'Number: 813',\n",
       " 'Number: 574',\n",
       " 'Number: 663',\n",
       " 'Number: 853',\n",
       " 'Number: 422',\n",
       " 'Number: 968',\n",
       " 'Number: 825',\n",
       " 'Number: 290',\n",
       " 'Number: 118',\n",
       " 'Number: 993',\n",
       " 'Number: 190',\n",
       " 'Number: 201',\n",
       " 'Number: 804',\n",
       " 'Number: 428',\n",
       " 'Number: 438',\n",
       " 'Number: 842',\n",
       " 'Number: 463',\n",
       " 'Number: 639',\n",
       " 'Number: 997',\n",
       " 'Number: 996',\n",
       " 'Number: 820',\n",
       " 'Number: 925',\n",
       " 'Number: 236',\n",
       " 'Number: 723',\n",
       " 'Number: 299',\n",
       " 'Number: 669',\n",
       " 'Number: 714',\n",
       " 'Number: 972',\n",
       " 'Number: 293',\n",
       " 'Number: 67',\n",
       " 'Number: 352',\n",
       " 'Number: 267',\n",
       " 'Number: 527',\n",
       " 'Number: 725',\n",
       " 'Number: 397',\n",
       " 'Number: 882',\n",
       " 'Number: 38',\n",
       " 'Number: 918',\n",
       " 'Number: 601',\n",
       " 'Number: 604',\n",
       " 'Number: 180',\n",
       " 'Number: 243',\n",
       " 'Number: 782',\n",
       " 'Number: 456',\n",
       " 'Number: 526',\n",
       " 'Number: 229',\n",
       " 'Number: 164',\n",
       " 'Number: 978',\n",
       " 'Number: 83',\n",
       " 'Number: 582',\n",
       " 'Number: 384',\n",
       " 'Number: 708',\n",
       " 'Number: 872',\n",
       " 'Number: 903',\n",
       " 'Number: 609',\n",
       " 'Number: 709',\n",
       " 'Number: 40',\n",
       " 'Number: 132',\n",
       " 'Number: 467',\n",
       " 'Number: 161',\n",
       " 'Number: 446',\n",
       " 'Number: 126',\n",
       " 'Number: 767',\n",
       " 'Number: 869',\n",
       " 'Number: 781',\n",
       " 'Number: 553',\n",
       " 'Number: 459',\n",
       " 'Number: 364',\n",
       " 'Number: 504',\n",
       " 'Number: 636',\n",
       " 'Number: 117',\n",
       " 'Number: 945',\n",
       " 'Number: 120',\n",
       " 'Number: 750',\n",
       " 'Number: 291',\n",
       " 'Number: 32',\n",
       " 'Number: 771',\n",
       " 'Number: 943',\n",
       " 'Number: 172',\n",
       " 'Number: 921',\n",
       " 'Number: 254',\n",
       " 'Number: 342',\n",
       " 'Number: 203',\n",
       " 'Number: 812',\n",
       " 'Number: 659',\n",
       " 'Number: 985',\n",
       " 'Number: 999',\n",
       " 'Number: 220',\n",
       " 'Number: 329',\n",
       " 'Number: 704',\n",
       " 'Number: 286',\n",
       " 'Number: 822',\n",
       " 'Number: 758',\n",
       " 'Number: 802',\n",
       " 'Number: 139',\n",
       " 'Number: 22',\n",
       " 'Number: 365',\n",
       " 'Number: 150',\n",
       " 'Number: 799',\n",
       " 'Number: 954',\n",
       " 'Number: 35',\n",
       " 'Number: 649',\n",
       " 'Number: 594',\n",
       " 'Number: 93',\n",
       " 'Number: 237',\n",
       " 'Number: 711',\n",
       " 'Number: 717',\n",
       " 'Number: 152',\n",
       " 'Number: 477',\n",
       " 'Number: 608',\n",
       " 'Number: 769',\n",
       " 'Number: 94',\n",
       " 'Number: 540',\n",
       " 'Number: 986',\n",
       " 'Number: 485',\n",
       " 'Number: 857',\n",
       " 'Number: 845',\n",
       " 'Number: 43',\n",
       " 'Number: 379',\n",
       " 'Number: 512',\n",
       " 'Number: 245',\n",
       " 'Number: 14',\n",
       " 'Number: 250',\n",
       " 'Number: 312',\n",
       " 'Number: 668',\n",
       " 'Number: 71',\n",
       " 'Number: 735',\n",
       " 'Number: 792',\n",
       " 'Number: 121',\n",
       " 'Number: 230',\n",
       " 'Number: 621',\n",
       " 'Number: 624',\n",
       " 'Number: 544',\n",
       " 'Number: 135',\n",
       " 'Number: 531',\n",
       " 'Number: 62',\n",
       " 'Number: 400',\n",
       " 'Number: 435',\n",
       " 'Number: 603',\n",
       " 'Number: 52',\n",
       " 'Number: 899',\n",
       " 'Number: 407',\n",
       " 'Number: 498',\n",
       " 'Number: 766',\n",
       " 'Number: 199',\n",
       " 'Number: 131',\n",
       " 'Number: 221',\n",
       " 'Number: 505',\n",
       " 'Number: 151',\n",
       " 'Number: 770',\n",
       " 'Number: 18',\n",
       " 'Number: 377',\n",
       " 'Number: 213',\n",
       " 'Number: 973',\n",
       " 'Number: 533',\n",
       " 'Number: 294',\n",
       " 'Number: 647',\n",
       " 'Number: 819',\n",
       " 'Number: 494',\n",
       " 'Number: 751',\n",
       " 'Number: 590',\n",
       " 'Number: 793',\n",
       " 'Number: 359',\n",
       " 'Number: 421',\n",
       " 'Number: 159',\n",
       " 'Number: 798',\n",
       " 'Number: 906',\n",
       " 'Number: 905',\n",
       " 'Number: 731',\n",
       " 'Number: 507',\n",
       " 'Number: 908',\n",
       " 'Number: 710',\n",
       " 'Number: 961',\n",
       " 'Number: 358',\n",
       " 'Number: 394',\n",
       " 'Number: 631',\n",
       " 'Number: 576',\n",
       " 'Number: 719',\n",
       " 'Number: 350',\n",
       " 'Number: 832',\n",
       " 'Number: 74',\n",
       " 'Number: 169',\n",
       " 'Number: 811',\n",
       " 'Number: 889',\n",
       " 'Number: 572',\n",
       " 'Number: 818',\n",
       " 'Number: 259',\n",
       " 'Number: 247',\n",
       " 'Number: 783',\n",
       " 'Number: 258',\n",
       " 'Number: 589',\n",
       " 'Number: 543',\n",
       " 'Number: 998',\n",
       " 'Number: 833',\n",
       " 'Number: 69',\n",
       " 'Number: 471',\n",
       " 'Number: 875',\n",
       " 'Number: 472',\n",
       " 'Number: 427',\n",
       " 'Number: 372',\n",
       " 'Number: 9',\n",
       " 'Number: 784',\n",
       " 'Number: 656',\n",
       " 'Number: 856',\n",
       " 'Number: 411',\n",
       " 'Number: 774',\n",
       " 'Number: 534',\n",
       " 'Number: 311',\n",
       " 'Number: 591',\n",
       " 'Number: 179',\n",
       " 'Number: 478',\n",
       " 'Number: 406',\n",
       " 'Number: 343',\n",
       " 'Number: 31',\n",
       " 'Number: 37',\n",
       " 'Number: 49',\n",
       " 'Number: 362',\n",
       " 'Number: 481',\n",
       " 'Number: 753',\n",
       " 'Number: 323',\n",
       " 'Number: 96',\n",
       " 'Number: 396',\n",
       " 'Number: 554',\n",
       " 'Number: 570',\n",
       " 'Number: 607',\n",
       " 'Number: 971',\n",
       " 'Number: 520',\n",
       " 'Number: 480',\n",
       " 'Number: 687',\n",
       " 'Number: 556',\n",
       " 'Number: 585',\n",
       " 'Number: 597',\n",
       " 'Number: 643',\n",
       " 'Number: 738',\n",
       " 'Number: 524',\n",
       " 'Number: 503',\n",
       " 'Number: 80',\n",
       " 'Number: 606',\n",
       " 'Number: 146',\n",
       " 'Number: 646',\n",
       " 'Number: 337',\n",
       " 'Number: 200',\n",
       " 'Number: 305',\n",
       " 'Number: 315',\n",
       " 'Number: 318',\n",
       " 'Number: 356',\n",
       " 'Number: 451',\n",
       " 'Number: 676',\n",
       " 'Number: 59',\n",
       " 'Number: 615',\n",
       " 'Number: 383',\n",
       " 'Number: 84',\n",
       " 'Number: 319',\n",
       " 'Number: 674',\n",
       " 'Number: 707',\n",
       " 'Number: 700',\n",
       " 'Number: 602',\n",
       " 'Number: 268',\n",
       " 'Number: 626',\n",
       " 'Number: 217',\n",
       " 'Number: 536',\n",
       " 'Number: 814',\n",
       " 'Number: 946',\n",
       " 'Number: 483',\n",
       " 'Number: 977',\n",
       " 'Number: 821',\n",
       " 'Number: 754',\n",
       " 'Number: 5',\n",
       " 'Number: 149',\n",
       " 'Number: 930',\n",
       " 'Number: 82',\n",
       " 'Number: 614',\n",
       " 'Number: 742',\n",
       " 'Number: 937',\n",
       " 'Number: 587',\n",
       " 'Number: 568',\n",
       " 'Number: 202',\n",
       " 'Number: 967',\n",
       " 'Number: 334',\n",
       " 'Number: 584',\n",
       " 'Number: 212',\n",
       " 'Number: 273',\n",
       " 'Number: 675',\n",
       " 'Number: 666',\n",
       " 'Number: 187',\n",
       " 'Number: 436',\n",
       " 'Number: 748',\n",
       " 'Number: 775',\n",
       " 'Number: 596',\n",
       " 'Number: 145',\n",
       " 'Number: 610',\n",
       " 'Number: 630',\n",
       " 'Number: 642',\n",
       " 'Number: 745',\n",
       " 'Number: 444',\n",
       " 'Number: 705',\n",
       " 'Number: 493',\n",
       " 'Number: 455',\n",
       " 'Number: 186',\n",
       " 'Number: 698',\n",
       " 'Number: 932',\n",
       " 'Number: 990',\n",
       " 'Number: 786',\n",
       " 'Number: 962',\n",
       " 'Number: 522',\n",
       " 'Number: 897',\n",
       " 'Number: 240',\n",
       " 'Number: 516',\n",
       " 'Number: 622',\n",
       " 'Number: 412',\n",
       " 'Number: 265',\n",
       " 'Number: 653',\n",
       " 'Number: 634',\n",
       " 'Number: 598',\n",
       " 'Number: 559',\n",
       " 'Number: 44',\n",
       " 'Number: 127',\n",
       " 'Number: 571',\n",
       " 'Number: 975',\n",
       " 'Number: 246',\n",
       " 'Number: 891',\n",
       " 'Number: 866',\n",
       " 'Number: 266',\n",
       " 'Number: 801',\n",
       " 'Number: 950',\n",
       " 'Number: 847',\n",
       " 'Number: 852',\n",
       " 'Number: 829',\n",
       " 'Number: 881',\n",
       " 'Number: 453',\n",
       " 'Number: 965',\n",
       " 'Number: 560',\n",
       " 'Number: 860',\n",
       " 'Number: 807',\n",
       " 'Number: 198',\n",
       " 'Number: 525',\n",
       " 'Number: 219',\n",
       " 'Number: 689',\n",
       " 'Number: 600',\n",
       " 'Number: 764',\n",
       " 'Number: 488',\n",
       " 'Number: 712',\n",
       " 'Number: 736',\n",
       " 'Number: 353',\n",
       " 'Number: 513',\n",
       " 'Number: 778',\n",
       " 'Number: 563',\n",
       " 'Number: 911',\n",
       " 'Number: 502',\n",
       " 'Number: 439',\n",
       " 'Number: 470',\n",
       " 'Number: 398',\n",
       " 'Number: 537',\n",
       " 'Number: 715',\n",
       " 'Number: 912',\n",
       " 'Number: 0',\n",
       " 'Number: 518',\n",
       " 'Number: 262',\n",
       " 'Number: 385',\n",
       " 'Number: 924',\n",
       " 'Number: 547',\n",
       " 'Number: 981',\n",
       " 'Number: 227',\n",
       " 'Number: 285',\n",
       " 'Number: 206',\n",
       " 'Number: 303',\n",
       " 'Number: 827',\n",
       " 'Number: 765',\n",
       " 'Number: 841',\n",
       " 'Number: 72',\n",
       " 'Number: 679',\n",
       " 'Number: 119',\n",
       " 'Number: 368',\n",
       " 'Number: 464',\n",
       " 'Number: 728',\n",
       " 'Number: 966',\n",
       " 'Number: 143',\n",
       " 'Number: 499',\n",
       " 'Number: 173',\n",
       " 'Number: 843',\n",
       " 'Number: 958',\n",
       " 'Number: 688',\n",
       " 'Number: 58',\n",
       " 'Number: 529',\n",
       " 'Number: 861',\n",
       " 'Number: 664',\n",
       " 'Number: 10',\n",
       " 'Number: 806',\n",
       " 'Number: 887',\n",
       " 'Number: 417',\n",
       " 'Number: 844',\n",
       " 'Number: 308',\n",
       " 'Number: 332',\n",
       " 'Number: 191',\n",
       " 'Number: 575',\n",
       " 'Number: 371',\n",
       " 'Number: 264',\n",
       " 'Number: 344',\n",
       " 'Number: 458',\n",
       " 'Number: 419',\n",
       " 'Number: 904',\n",
       " 'Number: 415',\n",
       " 'Number: 445',\n",
       " 'Number: 416',\n",
       " 'Number: 103',\n",
       " 'Number: 727',\n",
       " 'Number: 275',\n",
       " 'Number: 916',\n",
       " 'Number: 944',\n",
       " 'Number: 289',\n",
       " 'Number: 970',\n",
       " 'Number: 635',\n",
       " 'Number: 718',\n",
       " 'Number: 991',\n",
       " 'Number: 341',\n",
       " 'Number: 772',\n",
       " 'Number: 752',\n",
       " 'Number: 740',\n",
       " 'Number: 641',\n",
       " 'Number: 313',\n",
       " 'Number: 681',\n",
       " 'Number: 667',\n",
       " 'Number: 716',\n",
       " 'Number: 632',\n",
       " 'Number: 979',\n",
       " 'Number: 579',\n",
       " 'Number: 102',\n",
       " 'Number: 46',\n",
       " 'Number: 130',\n",
       " 'Number: 392',\n",
       " 'Number: 836',\n",
       " 'Number: 561',\n",
       " 'Number: 76',\n",
       " 'Number: 30',\n",
       " 'Number: 514',\n",
       " 'Number: 424',\n",
       " 'Number: 64',\n",
       " 'Number: 232',\n",
       " 'Number: 195',\n",
       " 'Number: 517',\n",
       " 'Number: 272',\n",
       " 'Number: 566',\n",
       " 'Number: 367',\n",
       " 'Number: 381',\n",
       " 'Number: 901',\n",
       " 'Number: 509',\n",
       " 'Number: 864',\n",
       " 'Number: 894',\n",
       " 'Number: 99',\n",
       " 'Number: 508',\n",
       " 'Number: 122',\n",
       " 'Number: 929',\n",
       " 'Number: 593',\n",
       " 'Number: 919',\n",
       " 'Number: 366',\n",
       " 'Number: 835',\n",
       " 'Number: 382',\n",
       " 'Number: 284',\n",
       " 'Number: 429',\n",
       " 'Number: 703',\n",
       " 'Number: 837',\n",
       " 'Number: 328',\n",
       " 'Number: 466',\n",
       " 'Number: 495',\n",
       " 'Number: 340',\n",
       " 'Number: 20',\n",
       " 'Number: 388',\n",
       " 'Number: 744',\n",
       " 'Number: 100',\n",
       " 'Number: 86',\n",
       " 'Number: 357',\n",
       " 'Number: 123',\n",
       " 'Number: 133',\n",
       " 'Number: 270',\n",
       " 'Number: 521',\n",
       " 'Number: 562',\n",
       " 'Number: 706',\n",
       " 'Number: 877',\n",
       " 'Number: 461',\n",
       " 'Number: 947',\n",
       " 'Number: 992',\n",
       " 'Number: 194',\n",
       " 'Number: 218',\n",
       " 'Number: 447',\n",
       " 'Number: 65',\n",
       " 'Number: 628',\n",
       " 'Number: 838',\n",
       " 'Number: 68',\n",
       " 'Number: 893',\n",
       " 'Number: 327',\n",
       " 'Number: 375',\n",
       " 'Number: 920',\n",
       " 'Number: 183',\n",
       " 'Number: 148',\n",
       " 'Number: 640',\n",
       " 'Number: 63',\n",
       " 'Number: 773',\n",
       " 'Number: 242',\n",
       " 'Number: 658',\n",
       " 'Number: 211',\n",
       " 'Number: 170',\n",
       " 'Number: 168',\n",
       " 'Number: 239',\n",
       " 'Number: 192',\n",
       " 'Number: 922',\n",
       " 'Number: 541',\n",
       " 'Number: 511',\n",
       " 'Number: 193',\n",
       " 'Number: 595',\n",
       " 'Number: 873',\n",
       " 'Number: 702',\n",
       " 'Number: 304',\n",
       " 'Number: 457',\n",
       " 'Number: 3',\n",
       " 'Number: 155',\n",
       " 'Number: 402',\n",
       " 'Number: 324',\n",
       " 'Number: 128',\n",
       " 'Number: 988',\n",
       " 'Number: 625',\n",
       " 'Number: 987',\n",
       " 'Number: 360',\n",
       " 'Number: 226',\n",
       " 'Number: 661',\n",
       " 'Number: 726',\n",
       " 'Number: 48',\n",
       " 'Number: 110',\n",
       " 'Number: 757',\n",
       " 'Number: 114',\n",
       " 'Number: 156',\n",
       " 'Number: 12',\n",
       " 'Number: 251',\n",
       " 'Number: 408',\n",
       " 'Number: 618',\n",
       " 'Number: 797',\n",
       " 'Number: 106',\n",
       " 'Number: 73',\n",
       " 'Number: 301',\n",
       " 'Number: 915',\n",
       " 'Number: 492',\n",
       " 'Number: 355',\n",
       " 'Number: 907',\n",
       " 'Number: 790',\n",
       " 'Number: 694',\n",
       " 'Number: 637',\n",
       " 'Number: 91',\n",
       " 'Number: 314',\n",
       " 'Number: 612',\n",
       " 'Number: 886',\n",
       " 'Number: 209',\n",
       " 'Number: 652',\n",
       " 'Number: 805',\n",
       " 'Number: 256',\n",
       " 'Number: 936',\n",
       " 'Number: 809',\n",
       " 'Number: 619',\n",
       " 'Number: 287',\n",
       " 'Number: 500',\n",
       " 'Number: 578',\n",
       " 'Number: 115',\n",
       " 'Number: 994',\n",
       " 'Number: 26',\n",
       " 'Number: 297',\n",
       " 'Number: 599',\n",
       " 'Number: 425',\n",
       " 'Number: 208',\n",
       " 'Number: 870',\n",
       " 'Number: 850',\n",
       " 'Number: 147',\n",
       " 'Number: 141',\n",
       " 'Number: 665',\n",
       " 'Number: 175',\n",
       " 'Number: 756',\n",
       " 'Number: 816',\n",
       " 'Number: 36',\n",
       " 'Number: 890',\n",
       " 'Number: 989',\n",
       " 'Number: 432',\n",
       " 'Number: 926',\n",
       " 'Number: 510',\n",
       " 'Number: 41',\n",
       " 'Number: 298',\n",
       " 'Number: 138',\n",
       " 'Number: 75',\n",
       " 'Number: 848',\n",
       " 'Number: 963',\n",
       " 'Number: 134',\n",
       " 'Number: 651',\n",
       " 'Number: 280',\n",
       " 'Number: 854',\n",
       " 'Number: 696',\n",
       " 'Number: 902',\n",
       " 'Number: 855',\n",
       " 'Number: 418',\n",
       " 'Number: 105',\n",
       " 'Number: 460',\n",
       " 'Number: 655',\n",
       " 'Number: 414',\n",
       " 'Number: 166',\n",
       " 'Number: 281',\n",
       " 'Number: 935',\n",
       " 'Number: 940',\n",
       " 'Number: 917',\n",
       " 'Number: 956',\n",
       " 'Number: 974',\n",
       " 'Number: 888',\n",
       " 'Number: 66',\n",
       " 'Number: 104',\n",
       " 'Number: 734',\n",
       " 'Number: 231',\n",
       " 'Number: 479',\n",
       " 'Number: 645',\n",
       " 'Number: 184',\n",
       " 'Number: 434',\n",
       " 'Number: 934',\n",
       " 'Number: 16',\n",
       " 'Number: 982',\n",
       " 'Number: 55',\n",
       " 'Number: 331',\n",
       " 'Number: 321',\n",
       " 'Number: 214',\n",
       " 'Number: 233',\n",
       " 'Number: 810',\n",
       " 'Number: 181',\n",
       " 'Number: 660',\n",
       " 'Number: 54',\n",
       " 'Number: 796',\n",
       " 'Number: 97',\n",
       " 'Number: 565',\n",
       " 'Number: 320',\n",
       " 'Number: 551',\n",
       " 'Number: 207',\n",
       " 'Number: 288',\n",
       " 'Number: 309',\n",
       " 'Number: 171',\n",
       " 'Number: 295',\n",
       " 'Number: 552',\n",
       " 'Number: 684',\n",
       " 'Number: 957',\n",
       " 'Number: 248',\n",
       " 'Number: 557',\n",
       " 'Number: 189',\n",
       " 'Number: 325',\n",
       " 'Number: 951',\n",
       " 'Number: 282',\n",
       " 'Number: 386',\n",
       " 'Number: 454',\n",
       " 'Number: 25',\n",
       " 'Number: 13',\n",
       " 'Number: 747',\n",
       " 'Number: 257',\n",
       " 'Number: 391',\n",
       " 'Number: 11',\n",
       " 'Number: 469',\n",
       " 'Number: 759',\n",
       " 'Number: 984',\n",
       " 'Number: 28',\n",
       " 'Number: 489',\n",
       " 'Number: 351',\n",
       " 'Number: 449',\n",
       " 'Number: 983',\n",
       " 'Number: 695',\n",
       " 'Number: 50',\n",
       " 'Number: 333',\n",
       " 'Number: 393',\n",
       " 'Number: 654',\n",
       " 'Number: 165',\n",
       " 'Number: 701',\n",
       " 'Number: 955',\n",
       " 'Number: 224',\n",
       " 'Number: 672',\n",
       " 'Number: 980',\n",
       " 'Number: 205',\n",
       " 'Number: 699',\n",
       " 'Number: 755',\n",
       " 'Number: 762',\n",
       " 'Number: 691',\n",
       " 'Number: 683',\n",
       " 'Number: 530',\n",
       " 'Number: 910',\n",
       " 'Number: 216',\n",
       " 'Number: 673',\n",
       " 'Number: 137',\n",
       " 'Number: 111',\n",
       " 'Number: 720',\n",
       " 'Number: 515',\n",
       " 'Number: 441',\n",
       " 'Number: 160',\n",
       " 'Number: 828',\n",
       " 'Number: 931',\n",
       " 'Number: 348',\n",
       " 'Number: 167',\n",
       " 'Number: 549',\n",
       " 'Number: 849',\n",
       " 'Number: 349',\n",
       " 'Number: 380',\n",
       " 'Number: 938',\n",
       " 'Number: 795',\n",
       " 'Number: 45',\n",
       " 'Number: 162',\n",
       " 'Number: 252',\n",
       " 'Number: 85',\n",
       " 'Number: 113',\n",
       " 'Number: 95',\n",
       " 'Number: 369',\n",
       " 'Number: 423',\n",
       " 'Number: 682',\n",
       " 'Number: 497',\n",
       " 'Number: 693',\n",
       " 'Number: 395',\n",
       " 'Number: 260',\n",
       " 'Number: 523',\n",
       " 'Number: 680',\n",
       " 'Number: 739',\n",
       " 'Number: 60',\n",
       " 'Number: 27',\n",
       " 'Number: 791',\n",
       " 'Number: 6',\n",
       " 'Number: 948',\n",
       " 'Number: 47',\n",
       " 'Number: 928',\n",
       " 'Number: 79',\n",
       " 'Number: 278',\n",
       " 'Number: 7',\n",
       " 'Number: 437',\n",
       " 'Number: 892',\n",
       " 'Number: 188',\n",
       " 'Number: 914',\n",
       " 'Number: 317',\n",
       " 'Number: 648',\n",
       " 'Number: 581',\n",
       " 'Number: 404',\n",
       " 'Number: 482',\n",
       " 'Number: 953',\n",
       " 'Number: 234',\n",
       " 'Number: 448',\n",
       " 'Number: 506',\n",
       " 'Number: 101',\n",
       " 'Number: 263',\n",
       " 'Number: 733',\n",
       " 'Number: 776',\n",
       " 'Number: 370',\n",
       " 'Number: 486',\n",
       " 'Number: 215',\n",
       " 'Number: 157',\n",
       " 'Number: 617',\n",
       " 'Number: 858',\n",
       " 'Number: 539',\n",
       " 'Number: 859',\n",
       " 'Number: 616',\n",
       " 'Number: 567',\n",
       " 'Number: 1',\n",
       " 'Number: 39',\n",
       " 'Number: 244',\n",
       " 'Number: 87',\n",
       " 'Number: 746',\n",
       " 'Number: 196',\n",
       " 'Number: 2',\n",
       " 'Number: 760',\n",
       " 'Number: 269',\n",
       " 'Number: 140',\n",
       " 'Number: 33',\n",
       " 'Number: 863',\n",
       " 'Number: 336',\n",
       " 'Number: 831',\n",
       " 'Number: 817',\n",
       " 'Number: 927',\n",
       " 'Number: 620',\n",
       " 'Number: 277',\n",
       " 'Number: 697',\n",
       " 'Number: 129',\n",
       " 'Number: 431',\n",
       " 'Number: 182',\n",
       " 'Number: 573',\n",
       " 'Number: 255',\n",
       " 'Number: 900',\n",
       " 'Number: 949',\n",
       " 'Number: 729',\n",
       " 'Number: 834',\n",
       " 'Number: 678',\n",
       " 'Number: 976',\n",
       " 'Number: 440',\n",
       " 'Number: 433',\n",
       " 'Number: 462',\n",
       " 'Number: 558',\n",
       " 'Number: 846',\n",
       " 'Number: 401',\n",
       " 'Number: 378',\n",
       " 'Number: 528',\n",
       " 'Number: 410',\n",
       " 'Number: 491',\n",
       " 'Number: 868',\n",
       " 'Number: 307',\n",
       " 'Number: 90',\n",
       " 'Number: 310',\n",
       " 'Number: 452',\n",
       " 'Number: 142',\n",
       " 'Number: 373',\n",
       " 'Number: 413',\n",
       " 'Number: 442',\n",
       " 'Number: 876',\n",
       " 'Number: 107',\n",
       " 'Number: 830',\n",
       " 'Number: 923',\n",
       " 'Number: 867',\n",
       " 'Number: 228',\n",
       " 'Number: 538',\n",
       " 'Number: 296',\n",
       " 'Number: 363',\n",
       " 'Number: 116',\n",
       " 'Number: 347',\n",
       " 'Number: 685',\n",
       " 'Number: 787',\n",
       " 'Number: 885',\n",
       " 'Number: 545',\n",
       " 'Number: 789',\n",
       " 'Number: 995',\n",
       " 'Number: 785',\n",
       " 'Number: 98',\n",
       " 'Number: 302',\n",
       " 'Number: 519',\n",
       " 'Number: 564',\n",
       " 'Number: 633',\n",
       " 'Number: 724',\n",
       " 'Number: 749',\n",
       " 'Number: 851',\n",
       " 'Number: 895',\n",
       " 'Number: 390',\n",
       " 'Number: 839',\n",
       " 'Number: 487',\n",
       " 'Number: 426',\n",
       " 'Number: 623',\n",
       " 'Number: 51',\n",
       " 'Number: 586',\n",
       " 'Number: 306',\n",
       " 'Number: 465',\n",
       " 'Number: 952',\n",
       " 'Number: 376',\n",
       " 'Number: 420',\n",
       " 'Number: 8',\n",
       " 'Number: 824',\n",
       " 'Number: 70',\n",
       " 'Number: 109',\n",
       " 'Number: 788',\n",
       " 'Number: 468',\n",
       " 'Number: 4',\n",
       " 'Number: 548',\n",
       " 'Number: 389',\n",
       " 'Number: 197',\n",
       " 'Number: 300',\n",
       " 'Number: 345',\n",
       " 'Number: 253',\n",
       " 'Number: 322',\n",
       " 'Number: 808',\n",
       " 'Number: 174',\n",
       " 'Number: 794',\n",
       " 'Number: 409',\n",
       " 'Number: 15',\n",
       " 'Number: 865',\n",
       " 'Number: 34',\n",
       " 'Number: 42',\n",
       " 'Number: 112',\n",
       " 'Number: 19',\n",
       " 'Number: 939',\n",
       " 'Number: 959',\n",
       " 'Number: 803',\n",
       " 'Number: 274',\n",
       " 'Number: 204',\n",
       " 'Number: 722',\n",
       " 'Number: 898',\n",
       " 'Number: 249',\n",
       " 'Number: 964',\n",
       " 'Number: 339',\n",
       " 'Number: 933',\n",
       " 'Number: 326',\n",
       " 'Number: 108',\n",
       " 'Number: 405',\n",
       " 'Number: 450',\n",
       " 'Number: 92',\n",
       " 'Number: 125',\n",
       " 'Number: 176',\n",
       " 'Number: 346',\n",
       " 'Number: 501',\n",
       " 'Number: 235',\n",
       " 'Number: 403',\n",
       " 'Number: 29',\n",
       " 'Number: 880',\n",
       " 'Number: 713',\n",
       " 'Number: 443',\n",
       " 'Number: 583',\n",
       " 'Number: 644',\n",
       " 'Number: 732',\n",
       " 'Number: 316',\n",
       " 'Number: 225',\n",
       " 'Number: 163',\n",
       " ...}"
      ]
     },
     "execution_count": 6,
     "metadata": {},
     "output_type": "execute_result"
    }
   ],
   "source": [
    "set_var"
   ]
  },
  {
   "cell_type": "code",
   "execution_count": 7,
   "metadata": {},
   "outputs": [
    {
     "name": "stdout",
     "output_type": "stream",
     "text": [
      "{'IronMan', 'Avengers', 'Hitman'}\n"
     ]
    },
    {
     "data": {
      "text/plain": [
       "set"
      ]
     },
     "execution_count": 7,
     "metadata": {},
     "output_type": "execute_result"
    }
   ],
   "source": [
    "set_var={\"Avengers\",\"IronMan\",'Hitman'}\n",
    "print(set_var)\n",
    "type(set_var)"
   ]
  },
  {
   "cell_type": "code",
   "execution_count": null,
   "metadata": {},
   "outputs": [],
   "source": []
  },
  {
   "cell_type": "code",
   "execution_count": 8,
   "metadata": {},
   "outputs": [],
   "source": [
    "## Inbuilt function in sets\n",
    "\n",
    "set_var.add(\"Hulk\")\n"
   ]
  },
  {
   "cell_type": "code",
   "execution_count": 9,
   "metadata": {},
   "outputs": [
    {
     "name": "stdout",
     "output_type": "stream",
     "text": [
      "{'IronMan', 'Avengers', 'Hitman', 'Hulk'}\n"
     ]
    }
   ],
   "source": [
    "print(set_var)"
   ]
  },
  {
   "cell_type": "code",
   "execution_count": 34,
   "metadata": {},
   "outputs": [],
   "source": [
    "set1={\"Avengers\",\"IronMan\",'Spiderman', 'Hitman'}\n",
    "set2={\"Avengers\",\"IronMan\",'Hitman','Hulk2'}"
   ]
  },
  {
   "cell_type": "code",
   "execution_count": 35,
   "metadata": {},
   "outputs": [],
   "source": [
    "set2.intersection_update(set1)"
   ]
  },
  {
   "cell_type": "code",
   "execution_count": 36,
   "metadata": {},
   "outputs": [
    {
     "data": {
      "text/plain": [
       "({'Avengers', 'Hitman', 'IronMan'},\n",
       " {'Avengers', 'Hitman', 'IronMan', 'Spiderman'})"
      ]
     },
     "execution_count": 36,
     "metadata": {},
     "output_type": "execute_result"
    }
   ],
   "source": [
    "set2,set1"
   ]
  },
  {
   "cell_type": "code",
   "execution_count": 37,
   "metadata": {},
   "outputs": [
    {
     "data": {
      "text/plain": [
       "set()"
      ]
     },
     "execution_count": 37,
     "metadata": {},
     "output_type": "execute_result"
    }
   ],
   "source": [
    "##Difference \n",
    "set2.difference(set1)"
   ]
  },
  {
   "cell_type": "code",
   "execution_count": 38,
   "metadata": {},
   "outputs": [
    {
     "data": {
      "text/plain": [
       "set()"
      ]
     },
     "execution_count": 38,
     "metadata": {},
     "output_type": "execute_result"
    }
   ],
   "source": [
    "new_set"
   ]
  },
  {
   "cell_type": "code",
   "execution_count": 29,
   "metadata": {},
   "outputs": [
    {
     "data": {
      "text/plain": [
       "{'Avengers', 'Hitman', 'IronMan'}"
      ]
     },
     "execution_count": 29,
     "metadata": {},
     "output_type": "execute_result"
    }
   ],
   "source": [
    "set2"
   ]
  },
  {
   "cell_type": "code",
   "execution_count": 39,
   "metadata": {},
   "outputs": [],
   "source": [
    "## Difference update\n",
    "\n",
    "set2.difference_update(set1)"
   ]
  },
  {
   "cell_type": "code",
   "execution_count": 40,
   "metadata": {},
   "outputs": [
    {
     "name": "stdout",
     "output_type": "stream",
     "text": [
      "set()\n"
     ]
    }
   ],
   "source": [
    "print(set2)"
   ]
  },
  {
   "cell_type": "markdown",
   "metadata": {},
   "source": [
    "## Dictionaries\n",
    "\n",
    "A dictionary is a collection which is unordered, changeable and indexed. In Python dictionaries are written with curly brackets, and they have keys and values."
   ]
  },
  {
   "cell_type": "code",
   "execution_count": 42,
   "metadata": {},
   "outputs": [],
   "source": [
    "dic={}"
   ]
  },
  {
   "cell_type": "code",
   "execution_count": 43,
   "metadata": {},
   "outputs": [
    {
     "data": {
      "text/plain": [
       "dict"
      ]
     },
     "execution_count": 43,
     "metadata": {},
     "output_type": "execute_result"
    }
   ],
   "source": [
    "type(dic)"
   ]
  },
  {
   "cell_type": "code",
   "execution_count": 44,
   "metadata": {},
   "outputs": [
    {
     "data": {
      "text/plain": [
       "dict"
      ]
     },
     "execution_count": 44,
     "metadata": {},
     "output_type": "execute_result"
    }
   ],
   "source": [
    "type(dict())"
   ]
  },
  {
   "cell_type": "code",
   "execution_count": 45,
   "metadata": {},
   "outputs": [],
   "source": [
    "set_ex={1,2,3,4,5}"
   ]
  },
  {
   "cell_type": "code",
   "execution_count": 46,
   "metadata": {},
   "outputs": [
    {
     "data": {
      "text/plain": [
       "set"
      ]
     },
     "execution_count": 46,
     "metadata": {},
     "output_type": "execute_result"
    }
   ],
   "source": [
    "type(set_ex)"
   ]
  },
  {
   "cell_type": "code",
   "execution_count": 47,
   "metadata": {},
   "outputs": [],
   "source": [
    "## Let create a dictionary\n",
    "\n",
    "my_dict={\"Car1\": \"Audi\", \"Car2\":\"BMW\",\"Car3\":\"Mercidies Benz\"}"
   ]
  },
  {
   "cell_type": "code",
   "execution_count": 48,
   "metadata": {},
   "outputs": [
    {
     "data": {
      "text/plain": [
       "dict"
      ]
     },
     "execution_count": 48,
     "metadata": {},
     "output_type": "execute_result"
    }
   ],
   "source": [
    "type(my_dict)"
   ]
  },
  {
   "cell_type": "code",
   "execution_count": 52,
   "metadata": {},
   "outputs": [
    {
     "data": {
      "text/plain": [
       "'Audi'"
      ]
     },
     "execution_count": 52,
     "metadata": {},
     "output_type": "execute_result"
    }
   ],
   "source": [
    "##Access the item values based on keys\n",
    "\n",
    "my_dict['Car1']"
   ]
  },
  {
   "cell_type": "code",
   "execution_count": 53,
   "metadata": {},
   "outputs": [
    {
     "name": "stdout",
     "output_type": "stream",
     "text": [
      "Car1\n",
      "Car2\n",
      "Car3\n"
     ]
    }
   ],
   "source": [
    "# We can even loop throught the dictionaries keys\n",
    "\n",
    "for x in my_dict:\n",
    "    print(x)"
   ]
  },
  {
   "cell_type": "code",
   "execution_count": 54,
   "metadata": {},
   "outputs": [
    {
     "name": "stdout",
     "output_type": "stream",
     "text": [
      "Audi\n",
      "BMW\n",
      "Mercidies Benz\n"
     ]
    }
   ],
   "source": [
    "# We can even loop throught the dictionaries values\n",
    "\n",
    "for x in my_dict.values():\n",
    "    print(x)"
   ]
  },
  {
   "cell_type": "code",
   "execution_count": 55,
   "metadata": {},
   "outputs": [
    {
     "name": "stdout",
     "output_type": "stream",
     "text": [
      "('Car1', 'Audi')\n",
      "('Car2', 'BMW')\n",
      "('Car3', 'Mercidies Benz')\n"
     ]
    }
   ],
   "source": [
    "# We can also check both keys and values\n",
    "for x in my_dict.items():\n",
    "    print(x)"
   ]
  },
  {
   "cell_type": "code",
   "execution_count": 56,
   "metadata": {},
   "outputs": [],
   "source": [
    "## Adding items in Dictionaries\n",
    "\n",
    "my_dict['car4']='Audi 2.0'"
   ]
  },
  {
   "cell_type": "code",
   "execution_count": 57,
   "metadata": {},
   "outputs": [
    {
     "data": {
      "text/plain": [
       "{'Car1': 'Audi', 'Car2': 'BMW', 'Car3': 'Mercidies Benz', 'car4': 'Audi 2.0'}"
      ]
     },
     "execution_count": 57,
     "metadata": {},
     "output_type": "execute_result"
    }
   ],
   "source": [
    "my_dict"
   ]
  },
  {
   "cell_type": "code",
   "execution_count": 58,
   "metadata": {},
   "outputs": [],
   "source": [
    "my_dict['Car1']='MAruti'"
   ]
  },
  {
   "cell_type": "code",
   "execution_count": 59,
   "metadata": {},
   "outputs": [
    {
     "data": {
      "text/plain": [
       "{'Car1': 'MAruti', 'Car2': 'BMW', 'Car3': 'Mercidies Benz', 'car4': 'Audi 2.0'}"
      ]
     },
     "execution_count": 59,
     "metadata": {},
     "output_type": "execute_result"
    }
   ],
   "source": [
    "my_dict"
   ]
  },
  {
   "cell_type": "markdown",
   "metadata": {},
   "source": [
    "### Nested Dictionary"
   ]
  },
  {
   "cell_type": "code",
   "execution_count": 60,
   "metadata": {},
   "outputs": [],
   "source": [
    "car1_model={'Mercedes':1960}\n",
    "car2_model={'Audi':1970}\n",
    "car3_model={'Ambassador':1980}\n",
    "\n",
    "car_type={'car1':car1_model,'car2':car2_model,'car3':car3_model}"
   ]
  },
  {
   "cell_type": "code",
   "execution_count": 61,
   "metadata": {},
   "outputs": [
    {
     "name": "stdout",
     "output_type": "stream",
     "text": [
      "{'car1': {'Mercedes': 1960}, 'car2': {'Audi': 1970}, 'car3': {'Ambassador': 1980}}\n"
     ]
    }
   ],
   "source": [
    "print(car_type)"
   ]
  },
  {
   "cell_type": "code",
   "execution_count": 65,
   "metadata": {},
   "outputs": [
    {
     "name": "stdout",
     "output_type": "stream",
     "text": [
      "{'Mercedes': 1960}\n"
     ]
    }
   ],
   "source": [
    "## Accessing the items in the dictionary\n",
    "\n",
    "print(car_type['car1'])"
   ]
  },
  {
   "cell_type": "code",
   "execution_count": 66,
   "metadata": {},
   "outputs": [
    {
     "name": "stdout",
     "output_type": "stream",
     "text": [
      "1960\n"
     ]
    }
   ],
   "source": [
    "print(car_type['car1']['Mercedes'])"
   ]
  },
  {
   "cell_type": "markdown",
   "metadata": {},
   "source": [
    "## Tuples"
   ]
  },
  {
   "cell_type": "markdown",
   "metadata": {},
   "source": [
    "Tuples can be reassigned to another tuple but the items within the tuple cannot be modified"
   ]
  },
  {
   "cell_type": "code",
   "execution_count": 67,
   "metadata": {},
   "outputs": [],
   "source": [
    "## create an empty Tuples\n",
    "\n",
    "my_tuple=tuple()"
   ]
  },
  {
   "cell_type": "code",
   "execution_count": 68,
   "metadata": {},
   "outputs": [
    {
     "data": {
      "text/plain": [
       "tuple"
      ]
     },
     "execution_count": 68,
     "metadata": {},
     "output_type": "execute_result"
    }
   ],
   "source": [
    "type(my_tuple)"
   ]
  },
  {
   "cell_type": "code",
   "execution_count": 69,
   "metadata": {},
   "outputs": [],
   "source": [
    "my_tuple=()"
   ]
  },
  {
   "cell_type": "code",
   "execution_count": 70,
   "metadata": {},
   "outputs": [
    {
     "data": {
      "text/plain": [
       "tuple"
      ]
     },
     "execution_count": 70,
     "metadata": {},
     "output_type": "execute_result"
    }
   ],
   "source": [
    "type(my_tuple)"
   ]
  },
  {
   "cell_type": "code",
   "execution_count": 71,
   "metadata": {},
   "outputs": [],
   "source": [
    "my_tuple=(\"Krish\",\"Ankur\",\"John\")"
   ]
  },
  {
   "cell_type": "code",
   "execution_count": 72,
   "metadata": {},
   "outputs": [],
   "source": [
    "my_tuple=('Hello','World')"
   ]
  },
  {
   "cell_type": "code",
   "execution_count": 73,
   "metadata": {},
   "outputs": [
    {
     "name": "stdout",
     "output_type": "stream",
     "text": [
      "<class 'tuple'>\n",
      "('Hello', 'World')\n"
     ]
    }
   ],
   "source": [
    "print(type(my_tuple))\n",
    "print(my_tuple)"
   ]
  },
  {
   "cell_type": "code",
   "execution_count": 74,
   "metadata": {},
   "outputs": [
    {
     "data": {
      "text/plain": [
       "tuple"
      ]
     },
     "execution_count": 74,
     "metadata": {},
     "output_type": "execute_result"
    }
   ],
   "source": [
    "type(my_tuple)"
   ]
  },
  {
   "cell_type": "code",
   "execution_count": 76,
   "metadata": {},
   "outputs": [
    {
     "data": {
      "text/plain": [
       "0"
      ]
     },
     "execution_count": 76,
     "metadata": {},
     "output_type": "execute_result"
    }
   ],
   "source": [
    "## Inbuilt function\n",
    "my_tuple.count('Krish')"
   ]
  },
  {
   "cell_type": "code",
   "execution_count": 80,
   "metadata": {},
   "outputs": [
    {
     "data": {
      "text/plain": [
       "1"
      ]
     },
     "execution_count": 80,
     "metadata": {},
     "output_type": "execute_result"
    }
   ],
   "source": [
    "my_tuple.index('World')"
   ]
  }
 ],
 "metadata": {
  "kernelspec": {
   "display_name": "Python 3",
   "language": "python",
   "name": "python3"
  },
  "language_info": {
   "codemirror_mode": {
    "name": "ipython",
    "version": 3
   },
   "file_extension": ".py",
   "mimetype": "text/x-python",
   "name": "python",
   "nbconvert_exporter": "python",
   "pygments_lexer": "ipython3",
   "version": "3.8.10"
  }
 },
 "nbformat": 4,
 "nbformat_minor": 2
}
